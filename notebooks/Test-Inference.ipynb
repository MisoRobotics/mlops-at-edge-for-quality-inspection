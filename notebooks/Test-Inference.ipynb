{
 "cells": [
  {
   "cell_type": "markdown",
   "metadata": {
    "pycharm": {
     "name": "#%% md\n"
    }
   },
   "source": [
    "# Test inference"
   ]
  },
  {
   "cell_type": "markdown",
   "metadata": {
    "pycharm": {
     "name": "#%% md\n"
    }
   },
   "source": [
    "This is a helper notebook to test and visualize the inferences done by the demo edge device deployed as part of the MLOps @ Edge example. "
   ]
  },
  {
   "cell_type": "code",
   "execution_count": null,
   "metadata": {
    "pycharm": {
     "name": "#%%\n"
    }
   },
   "outputs": [],
   "source": [
    "# create required thing and certificates to allow communication wiht AWS IoT core\n",
    "THING_NAME=\"inference-notebook\"\n",
    "!certs/create-thing.sh $THING_NAME\n",
    "ENDPOINT=!aws iot describe-endpoint --endpoint-type iot:Data-ATS --output text\n",
    "ENDPOINT = ENDPOINT[0]\n",
    "print(f'Endpoint is {ENDPOINT}')"
   ]
  },
  {
   "cell_type": "code",
   "execution_count": null,
   "metadata": {
    "pycharm": {
     "name": "#%%\n"
    }
   },
   "outputs": [],
   "source": [
    "# install required dependencies\n",
    "!apt-get -qq update\n",
    "!apt-get install -qq ffmpeg libsm6 libxext6  -y\n",
    "!pip install -qq paho-mqtt gluoncv mxnet opencv-python"
   ]
  },
  {
   "cell_type": "code",
   "execution_count": null,
   "metadata": {
    "pycharm": {
     "name": "#%%\n"
    }
   },
   "outputs": [],
   "source": [
    "import paho.mqtt.client as paho\n",
    "import os\n",
    "import socket\n",
    "import ssl\n",
    "from time import sleep\n",
    "from random import uniform\n",
    "import json\n",
    "import traceback\n",
    "import logging\n",
    "logging.basicConfig(level=logging.INFO)\n",
    "import json\n",
    "from gluoncv.utils import download, viz\n",
    "import cv2\n",
    "from matplotlib import pyplot as plt\n",
    "import numpy as np\n",
    "classes = ['scratch']\n",
    "from IPython.display import clear_output\n",
    "\n",
    "class PubSub(object):\n",
    "\n",
    "    def __init__(self, listener = False, topic = \"default\"):\n",
    "        self.connect = False\n",
    "        self.listener = listener\n",
    "        self.topic = topic\n",
    "        self.logger = logging.getLogger(repr(self))\n",
    "\n",
    "    def __visualize_payload(self,message_string):\n",
    "        clear_output(wait=True)\n",
    "        inference_message = json.loads(message_string)\n",
    "        image = cv2.imread(f\"../inference/lib/assets/gg_components/artifacts/qualityinspection/sample_images/{inference_message['image_name']}\")\n",
    "        bbox = np.array(inference_message['inference_results'][0][2])\n",
    "        score = np.array(inference_message['inference_results'][0][1])\n",
    "        cid = np.array(inference_message['inference_results'][0][0])\n",
    "        self.logger.info(f\"Received predictions for image {inference_message['image_name']}\")\n",
    "        viz.plot_bbox(image, bbox,score,cid, class_names=classes, thresh=0.01)\n",
    "        plt.show()\n",
    "    def __on_connect(self, client, userdata, flags, rc):\n",
    "        self.connect = True\n",
    "        \n",
    "        if self.listener:\n",
    "            self.mqttc.subscribe(self.topic)\n",
    "\n",
    "        self.logger.debug(\"{0}\".format(rc))\n",
    "\n",
    "    def __on_message(self, client, userdata, msg):\n",
    "        \n",
    "        #self.logger.info(\"{0}, {1} - {2}\".format(userdata, msg.topic, msg.payload))\n",
    "        try:\n",
    "            message_string = msg.payload.decode()\n",
    "            self.__visualize_payload(message_string)\n",
    "        except:\n",
    "            traceback.print_exc()\n",
    "            pass\n",
    "\n",
    "    def __on_log(self, client, userdata, level, buf):\n",
    "        self.logger.debug(\"{0}, {1}, {2}, {3}\".format(client, userdata, level, buf))\n",
    "\n",
    "\n",
    "    \n",
    "    def bootstrap_mqtt(self):\n",
    "\n",
    "        self.mqttc = paho.Client()\n",
    "        self.mqttc.on_connect = self.__on_connect\n",
    "        self.mqttc.on_message = self.__on_message\n",
    "        self.mqttc.on_log = self.__on_log\n",
    "\n",
    "        awshost = ENDPOINT\n",
    "        awsport = 8883\n",
    "\n",
    "        caPath = \"./certs/AmazonRootCA1.pem\" # Root certificate authority, comes from AWS with a long, long name\n",
    "        certPath = f\"./certs/{THING_NAME}-certificate.pem.crt\"\n",
    "        keyPath = f\"./certs/{THING_NAME}-private.pem.key\"\n",
    "\n",
    "        self.mqttc.tls_set(caPath, \n",
    "            certfile=certPath, \n",
    "            keyfile=keyPath, \n",
    "            cert_reqs=ssl.CERT_REQUIRED, \n",
    "            tls_version=ssl.PROTOCOL_TLSv1_2, \n",
    "            ciphers=None)\n",
    "\n",
    "        result_of_connection = self.mqttc.connect(awshost, awsport, keepalive=120)\n",
    "\n",
    "        if result_of_connection == 0:\n",
    "            self.connect = True\n",
    "\n",
    "        return self\n",
    "\n",
    "    def start(self):\n",
    "        self.mqttc.loop_start()\n",
    "\n",
    "        while True:\n",
    "            sleep(2)\n",
    "            if self.connect == True:\n",
    "                pass\n",
    "                #print(\"Connected\")\n",
    "                #self.mqttc.publish(self.topic, json.dumps({\"message\": \"Hello COMP680\"}), qos=1)\n",
    "            else:\n",
    "                self.logger.debug(\"Attempting to connect.\")  \n",
    "    \n",
    "\n",
    "        \n"
   ]
  },
  {
   "cell_type": "code",
   "execution_count": null,
   "metadata": {
    "pycharm": {
     "name": "#%%\n"
    }
   },
   "outputs": [],
   "source": [
    "PubSub(listener = True, topic = \"gg/sageMakerEdgeManager/object-detection\").bootstrap_mqtt().start()"
   ]
  },
  {
   "cell_type": "code",
   "execution_count": null,
   "metadata": {
    "pycharm": {
     "name": "#%%\n"
    }
   },
   "outputs": [],
   "source": []
  }
 ],
 "metadata": {
  "instance_type": "ml.t3.medium",
  "kernelspec": {
   "display_name": "Python 3 (Data Science)",
   "language": "python",
   "name": "python3__SAGEMAKER_INTERNAL__arn:aws:sagemaker:eu-west-1:470317259841:image/datascience-1.0"
  },
  "language_info": {
   "codemirror_mode": {
    "name": "ipython",
    "version": 3
   },
   "file_extension": ".py",
   "mimetype": "text/x-python",
   "name": "python",
   "nbconvert_exporter": "python",
   "pygments_lexer": "ipython3",
   "version": "3.7.10"
  },
  "vscode": {
   "interpreter": {
    "hash": "136b9265a7fdca50a8570235dbc6eb84109480dab07d5118e880ffa74c79392f"
   }
  }
 },
 "nbformat": 4,
 "nbformat_minor": 5
}